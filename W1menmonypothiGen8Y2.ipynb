{
 "cells": [
  {
   "cell_type": "code",
   "execution_count": 7,
   "id": "468898f1",
   "metadata": {},
   "outputs": [
    {
     "name": "stdout",
     "output_type": "stream",
     "text": [
      "[[-1.06248328 -1.88364157  0.31758554]\n",
      " [ 0.02912194 -2.05324279  0.59761219]]\n"
     ]
    }
   ],
   "source": [
    "import numpy as np\n",
    "data = np.random.randn(2, 3)\n",
    "print(data)"
   ]
  },
  {
   "cell_type": "code",
   "execution_count": 4,
   "id": "9b868290",
   "metadata": {},
   "outputs": [
    {
     "name": "stdout",
     "output_type": "stream",
     "text": [
      "[[ -4.8534554   -9.29100926 -12.2838685 ]\n",
      " [ -8.55034075   2.68319917  -7.21500298]]\n"
     ]
    }
   ],
   "source": [
    "print(data * 10)"
   ]
  },
  {
   "cell_type": "code",
   "execution_count": 5,
   "id": "01645f26",
   "metadata": {},
   "outputs": [
    {
     "name": "stdout",
     "output_type": "stream",
     "text": [
      "[[-0.97069108 -1.85820185 -2.4567737 ]\n",
      " [-1.71006815  0.53663983 -1.4430006 ]]\n"
     ]
    }
   ],
   "source": [
    "print(data+data)"
   ]
  },
  {
   "cell_type": "code",
   "execution_count": 8,
   "id": "6159eed2",
   "metadata": {},
   "outputs": [
    {
     "name": "stdout",
     "output_type": "stream",
     "text": [
      "[6.  7.5 8.  0.  1. ]\n"
     ]
    }
   ],
   "source": [
    "data1 = [6, 7.5, 8, 0, 1]\n",
    "arr1 = np.array(data1)\n",
    "print(arr1)"
   ]
  },
  {
   "cell_type": "code",
   "execution_count": 10,
   "id": "9fe1944e",
   "metadata": {},
   "outputs": [
    {
     "name": "stdout",
     "output_type": "stream",
     "text": [
      "[[1 2 3 4]\n",
      " [5 6 7 8]]\n"
     ]
    }
   ],
   "source": [
    "data2 = [[1, 2 ,3 ,4], [5, 6, 7 ,8]]\n",
    "arr2 = np.array(data2)\n",
    "print(arr2)"
   ]
  },
  {
   "cell_type": "code",
   "execution_count": 13,
   "id": "5b7edffc",
   "metadata": {},
   "outputs": [
    {
     "name": "stdout",
     "output_type": "stream",
     "text": [
      "[0 1 2 3 4]\n"
     ]
    }
   ],
   "source": [
    "arr3 = np.arange(5)\n",
    "print(arr3)"
   ]
  },
  {
   "cell_type": "code",
   "execution_count": 14,
   "id": "3d473fc6",
   "metadata": {},
   "outputs": [
    {
     "name": "stdout",
     "output_type": "stream",
     "text": [
      "[[0. 0. 0.]\n",
      " [0. 0. 0.]]\n"
     ]
    }
   ],
   "source": [
    "arr4 = np.zeros((2, 3))\n",
    "print(arr4)"
   ]
  },
  {
   "cell_type": "code",
   "execution_count": 19,
   "id": "95f1e003",
   "metadata": {},
   "outputs": [
    {
     "name": "stdout",
     "output_type": "stream",
     "text": [
      "[[1. 1. 1.]\n",
      " [1. 1. 1.]]\n"
     ]
    }
   ],
   "source": [
    "arr5 = np.ones((2, 3))\n",
    "print(arr5)"
   ]
  },
  {
   "cell_type": "code",
   "execution_count": 21,
   "id": "d5ff608d",
   "metadata": {},
   "outputs": [
    {
     "name": "stdout",
     "output_type": "stream",
     "text": [
      "[[1 2 3]\n",
      " [4 5 6]]\n"
     ]
    }
   ],
   "source": [
    "arr6 = np.array([[1, 2, 3], [4, 5, 6]])\n",
    "print(arr6)"
   ]
  },
  {
   "cell_type": "code",
   "execution_count": 26,
   "id": "2ea9e589",
   "metadata": {},
   "outputs": [
    {
     "data": {
      "text/plain": [
       "array([[ 1,  4,  9],\n",
       "       [16, 25, 36]])"
      ]
     },
     "execution_count": 26,
     "metadata": {},
     "output_type": "execute_result"
    }
   ],
   "source": [
    "arr8=arr6*arr6\n",
    "arr8"
   ]
  },
  {
   "cell_type": "code",
   "execution_count": 23,
   "id": "dcc1335c",
   "metadata": {},
   "outputs": [
    {
     "data": {
      "text/plain": [
       "array([[0, 0, 0],\n",
       "       [0, 0, 0]], dtype=int32)"
      ]
     },
     "execution_count": 23,
     "metadata": {},
     "output_type": "execute_result"
    }
   ],
   "source": [
    "arr6^arr6"
   ]
  },
  {
   "cell_type": "code",
   "execution_count": 24,
   "id": "6e57fb35",
   "metadata": {},
   "outputs": [
    {
     "data": {
      "text/plain": [
       "array([[False, False, False],\n",
       "       [False, False, False]])"
      ]
     },
     "execution_count": 24,
     "metadata": {},
     "output_type": "execute_result"
    }
   ],
   "source": [
    "arr6 > arr6"
   ]
  },
  {
   "cell_type": "code",
   "execution_count": 28,
   "id": "2d3bcf09",
   "metadata": {},
   "outputs": [
    {
     "name": "stdout",
     "output_type": "stream",
     "text": [
      "[[False  True  True]\n",
      " [ True  True  True]]\n"
     ]
    }
   ],
   "source": [
    "val= arr6<arr8\n",
    "print(val)"
   ]
  },
  {
   "cell_type": "code",
   "execution_count": 29,
   "id": "8cc0fa0e",
   "metadata": {},
   "outputs": [
    {
     "name": "stdout",
     "output_type": "stream",
     "text": [
      "[0 1 2 3 4 5 6 7 8 9]\n"
     ]
    }
   ],
   "source": [
    "arr9 = np.arange(10)\n",
    "print(arr9)"
   ]
  },
  {
   "cell_type": "code",
   "execution_count": 31,
   "id": "e8510af2",
   "metadata": {},
   "outputs": [
    {
     "name": "stdout",
     "output_type": "stream",
     "text": [
      "5\n"
     ]
    }
   ],
   "source": [
    "print(arr9[5])"
   ]
  },
  {
   "cell_type": "code",
   "execution_count": 36,
   "id": "9b10f1a9",
   "metadata": {},
   "outputs": [
    {
     "name": "stdout",
     "output_type": "stream",
     "text": [
      "[2 3 4 5 6 7 8 9]\n"
     ]
    }
   ],
   "source": [
    "print(arr9[1:10])"
   ]
  },
  {
   "cell_type": "code",
   "execution_count": 37,
   "id": "ff048abd",
   "metadata": {},
   "outputs": [
    {
     "name": "stdout",
     "output_type": "stream",
     "text": [
      "[ 0  1  2  3  4 12 12 12  8  9]\n"
     ]
    }
   ],
   "source": [
    "arr9[5:8]=12\n",
    "print(arr9)"
   ]
  },
  {
   "cell_type": "code",
   "execution_count": 52,
   "id": "dcb28642",
   "metadata": {
    "scrolled": true
   },
   "outputs": [
    {
     "name": "stdout",
     "output_type": "stream",
     "text": [
      "[[ 0.43836897 -0.69286177 -0.35794181]\n",
      " [-0.05327812  0.01438284  0.80255642]\n",
      " [ 0.02060561  0.38344482 -0.11474905]]\n",
      "\n",
      "-----------------------------------------\n",
      "\n",
      "[ 0.02060561  0.38344482 -0.11474905]\n",
      "\n",
      "-----------------------------------------\n",
      "\n",
      "-0.11474905392425538\n"
     ]
    }
   ],
   "source": [
    "arr2d=np.random.randn(3, 3)\n",
    "print(arr2d)\n",
    "print(\"\\n-----------------------------------------\\n\")\n",
    "print(arr2d[2])\n",
    "print(\"\\n-----------------------------------------\\n\")\n",
    "print(arr2d[2, 2])"
   ]
  },
  {
   "cell_type": "code",
   "execution_count": 59,
   "id": "925b2907",
   "metadata": {
    "scrolled": false
   },
   "outputs": [
    {
     "name": "stdout",
     "output_type": "stream",
     "text": [
      "[[[ 0.43307074 -0.44827412  0.55142247]\n",
      "  [ 0.02123609 -1.26951532  1.92554178]]\n",
      "\n",
      " [[ 0.80599265 -1.57807031 -0.57147759]\n",
      "  [ 0.27237171 -1.52473355  0.26160669]]]\n",
      "\n",
      "-----------------------------------------\n",
      "\n",
      "-1.5247335525666503\n"
     ]
    }
   ],
   "source": [
    "arr3d=np.random.randn(2, 2, 3)\n",
    "print(arr3d)\n",
    "print(\"\\n-----------------------------------------\\n\")\n",
    "print(arr3d[1, 1, 1])"
   ]
  },
  {
   "cell_type": "code",
   "execution_count": 61,
   "id": "c5bbe425",
   "metadata": {},
   "outputs": [
    {
     "name": "stdout",
     "output_type": "stream",
     "text": [
      "{'bob', 'boy', 'bong', 'box', 'bom', 'beng'}\n",
      "[[ 1.95717017 -1.79388394  0.05314517 -0.09914709  0.48744647 -0.45855893]\n",
      " [ 0.59793117  0.85014969 -1.26869056 -1.79348337 -0.05997473 -0.18473053]\n",
      " [ 1.75959468  0.58600703  1.98706581 -0.01108996  0.85264988  0.15982134]\n",
      " [ 0.22520012 -0.59978556  0.10277983 -1.03297876 -0.6952508  -0.50065849]]\n"
     ]
    }
   ],
   "source": [
    "arr_name={'bob','bom','box','bong','boy','beng'}\n",
    "arr_element=np.random.randn(4, 6)\n",
    "print(arr_name)\n",
    "print(arr_element)"
   ]
  },
  {
   "cell_type": "code",
   "execution_count": 64,
   "id": "35e91445",
   "metadata": {},
   "outputs": [
    {
     "ename": "NameError",
     "evalue": "name 'arange' is not defined",
     "output_type": "error",
     "traceback": [
      "\u001b[1;31m---------------------------------------------------------------------------\u001b[0m",
      "\u001b[1;31mNameError\u001b[0m                                 Traceback (most recent call last)",
      "\u001b[1;32m~\\AppData\\Local\\Temp\\ipykernel_25532\\3999486158.py\u001b[0m in \u001b[0;36m<module>\u001b[1;34m\u001b[0m\n\u001b[0;32m      1\u001b[0m \u001b[0marr\u001b[0m \u001b[1;33m=\u001b[0m \u001b[0mnp\u001b[0m\u001b[1;33m.\u001b[0m\u001b[0mempty\u001b[0m\u001b[1;33m(\u001b[0m\u001b[1;33m(\u001b[0m\u001b[1;36m8\u001b[0m\u001b[1;33m,\u001b[0m \u001b[1;36m4\u001b[0m\u001b[1;33m)\u001b[0m\u001b[1;33m)\u001b[0m\u001b[1;33m\u001b[0m\u001b[1;33m\u001b[0m\u001b[0m\n\u001b[1;32m----> 2\u001b[1;33m \u001b[1;32mfor\u001b[0m \u001b[0mi\u001b[0m \u001b[1;32min\u001b[0m \u001b[0marange\u001b[0m\u001b[1;33m(\u001b[0m\u001b[1;36m8\u001b[0m\u001b[1;33m)\u001b[0m\u001b[1;33m:\u001b[0m\u001b[1;33m\u001b[0m\u001b[1;33m\u001b[0m\u001b[0m\n\u001b[0m\u001b[0;32m      3\u001b[0m     \u001b[0marr\u001b[0m\u001b[1;33m[\u001b[0m\u001b[0mi\u001b[0m\u001b[1;33m]\u001b[0m\u001b[1;33m=\u001b[0m\u001b[0mi\u001b[0m\u001b[1;33m\u001b[0m\u001b[1;33m\u001b[0m\u001b[0m\n\u001b[0;32m      4\u001b[0m \u001b[0mprint\u001b[0m\u001b[1;33m(\u001b[0m\u001b[0marr\u001b[0m\u001b[1;33m[\u001b[0m\u001b[0mi\u001b[0m\u001b[1;33m]\u001b[0m\u001b[1;33m)\u001b[0m\u001b[1;33m\u001b[0m\u001b[1;33m\u001b[0m\u001b[0m\n",
      "\u001b[1;31mNameError\u001b[0m: name 'arange' is not defined"
     ]
    }
   ],
   "source": [
    "arr = np.empty((8, 4))\n",
    "for i in arange(8):\n",
    "    arr[i]=i\n",
    "print(arr)"
   ]
  },
  {
   "cell_type": "code",
   "execution_count": 2,
   "id": "9b6d602f",
   "metadata": {},
   "outputs": [
    {
     "name": "stdout",
     "output_type": "stream",
     "text": [
      "I love 100 dog.\n",
      "My 100 dogs are crazy.\n"
     ]
    }
   ],
   "source": [
    "frist_line = \"I love \"\n",
    "number = 100\n",
    "type1 = \" dog.\"\n",
    "frist_line2 = \"My \"\n",
    "number2 = 100\n",
    "type2 = \" dogs are crazy.\"\n",
    "\n",
    "sum1 = f\"{frist_line}{number}{type1}\"\n",
    "sum2 = f\"{frist_line2}{number2}{type2}\"\n",
    "\n",
    "print(sum1)\n",
    "print(sum2)\n",
    "\n"
   ]
  },
  {
   "cell_type": "code",
   "execution_count": null,
   "id": "85b1d721",
   "metadata": {},
   "outputs": [],
   "source": []
  }
 ],
 "metadata": {
  "kernelspec": {
   "display_name": "Python 3 (ipykernel)",
   "language": "python",
   "name": "python3"
  },
  "language_info": {
   "codemirror_mode": {
    "name": "ipython",
    "version": 3
   },
   "file_extension": ".py",
   "mimetype": "text/x-python",
   "name": "python",
   "nbconvert_exporter": "python",
   "pygments_lexer": "ipython3",
   "version": "3.9.13"
  }
 },
 "nbformat": 4,
 "nbformat_minor": 5
}
