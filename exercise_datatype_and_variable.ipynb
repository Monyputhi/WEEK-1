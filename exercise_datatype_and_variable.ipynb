{
 "cells": [
  {
   "cell_type": "code",
   "execution_count": 2,
   "id": "1fef9701",
   "metadata": {},
   "outputs": [
    {
     "name": "stdout",
     "output_type": "stream",
     "text": [
      "What is your name?numpy\n",
      "Hello numpy\n"
     ]
    }
   ],
   "source": [
    "name = input(\"What is your name?\") #hello\n",
    "print(\"Hello \" + name)\n"
   ]
  },
  {
   "cell_type": "code",
   "execution_count": 13,
   "id": "3135f2c8",
   "metadata": {},
   "outputs": [
    {
     "name": "stdout",
     "output_type": "stream",
     "text": [
      "How length of your room? length is(m) : 12\n",
      "How width of your room? width is(m) : 12\n",
      "Area of your room is :  144.0 m\n"
     ]
    }
   ],
   "source": [
    "length = float(input(\"How length of your room? length is(m) : \"))#\n",
    "width = float(input(\"How width of your room? width is(m) : \"))\n",
    "area = length*width\n",
    "print(\"Area of your room is : \",area,\"m\")"
   ]
  },
  {
   "cell_type": "code",
   "execution_count": 15,
   "id": "4b3fc6e5",
   "metadata": {},
   "outputs": [
    {
     "name": "stdout",
     "output_type": "stream",
     "text": [
      "How length of your field ? length is(feet) : 13244\n",
      "How width of your field? width is(feet) : 243\n",
      "Area of your room is :  73.88181818181818 acre\n"
     ]
    }
   ],
   "source": [
    "length = float(input(\"How length of your field ? length is(feet) : \"))#\n",
    "width = float(input(\"How width of your field? width is(feet) : \"))\n",
    "area = length*width/43560\n",
    "print(\"Area of your room is : \",area,\"acre\")"
   ]
  },
  {
   "cell_type": "code",
   "execution_count": 17,
   "id": "c9ffb956",
   "metadata": {},
   "outputs": [
    {
     "name": "stdout",
     "output_type": "stream",
     "text": [
      "Please enter the number do you want to sum from 0 to your number? Number : 10\n",
      "Sum of the first N positive Integers :  55.0\n"
     ]
    }
   ],
   "source": [
    "n = int(input(\"Please enter the number do you want to sum from 0 to your number? Number : \"))\n",
    "sum = n*(n+1)/2\n",
    "print(\"Sum of the first N positive Integers : \",sum)"
   ]
  },
  {
   "cell_type": "code",
   "execution_count": null,
   "id": "302e7b79",
   "metadata": {},
   "outputs": [],
   "source": []
  },
  {
   "cell_type": "code",
   "execution_count": null,
   "id": "1539328f",
   "metadata": {},
   "outputs": [],
   "source": []
  },
  {
   "cell_type": "code",
   "execution_count": null,
   "id": "c77c25db",
   "metadata": {},
   "outputs": [],
   "source": []
  }
 ],
 "metadata": {
  "kernelspec": {
   "display_name": "Python 3 (ipykernel)",
   "language": "python",
   "name": "python3"
  },
  "language_info": {
   "codemirror_mode": {
    "name": "ipython",
    "version": 3
   },
   "file_extension": ".py",
   "mimetype": "text/x-python",
   "name": "python",
   "nbconvert_exporter": "python",
   "pygments_lexer": "ipython3",
   "version": "3.9.13"
  }
 },
 "nbformat": 4,
 "nbformat_minor": 5
}
